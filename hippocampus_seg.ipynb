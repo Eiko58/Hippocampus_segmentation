{
  "nbformat": 4,
  "nbformat_minor": 0,
  "metadata": {
    "colab": {
      "name": "hippocampus_seg.ipynb",
      "provenance": [],
      "authorship_tag": "ABX9TyO28gVYQGrUcdIqFPa4jb9S",
      "include_colab_link": true
    },
    "kernelspec": {
      "name": "python3",
      "display_name": "Python 3"
    },
    "language_info": {
      "name": "python"
    }
  },
  "cells": [
    {
      "cell_type": "markdown",
      "metadata": {
        "id": "view-in-github",
        "colab_type": "text"
      },
      "source": [
        "<a href=\"https://colab.research.google.com/github/Eiko58/Hippocampus_segmentation/blob/main/hippocampus_seg.ipynb\" target=\"_parent\"><img src=\"https://colab.research.google.com/assets/colab-badge.svg\" alt=\"Open In Colab\"/></a>"
      ]
    },
    {
      "cell_type": "code",
      "execution_count": 1,
      "metadata": {
        "colab": {
          "base_uri": "https://localhost:8080/"
        },
        "id": "fBf-SJKR7dpa",
        "outputId": "d6ea2388-2386-4cd0-f8c9-4534e0980494"
      },
      "outputs": [
        {
          "output_type": "stream",
          "name": "stdout",
          "text": [
            "Mounted at /content/drive\n"
          ]
        }
      ],
      "source": [
        "from google.colab import drive\n",
        "drive.mount('/content/drive')\n"
      ]
    },
    {
      "cell_type": "code",
      "source": [
        "import torch\n",
        "import torch.nn as nn\n"
      ],
      "metadata": {
        "id": "d7wvFbuv9ACQ"
      },
      "execution_count": 1,
      "outputs": []
    },
    {
      "cell_type": "code",
      "source": [
        "def double_conv(in_c, out_c):\n",
        "  conv = nn.Sequential(\n",
        "      nn.Conv2d(in_c,out_c,kernel_size=3),\n",
        "      nn.ReLU(inplace=True),\n",
        "      nn.Conv2d(out_c,out_c,kernel_size=3),\n",
        "      nn.ReLU(inplace=True),\n",
        "  )\n",
        "  return conv\n",
        "\n",
        "def crop_img(tensor, target_tensor):\n",
        "  target_size = target_tensor.size()[2]\n",
        "  tensor_size = tensor.size()[2]\n",
        "  delta = tensor_size - target_size\n",
        "  delta = delta //2\n",
        "  return tensor[:,:,delta:tensor_size-delta,delta:tensor_size-delta]\n"
      ],
      "metadata": {
        "id": "QMU4NSjngqkf"
      },
      "execution_count": 23,
      "outputs": []
    },
    {
      "cell_type": "code",
      "source": [
        "class UNet(nn.Module):\n",
        "  def __init__(self):\n",
        "    super(UNet,self).__init__()\n",
        "    self.max_pool = nn.MaxPool2d(kernel_size=2, stride=2)\n",
        "    self.down_conv1 = double_conv(1,64)\n",
        "    self.down_conv2 = double_conv(64,128)\n",
        "    self.down_conv3 = double_conv(128,256)\n",
        "    self.down_conv4 = double_conv(256,512)\n",
        "    self.down_conv5 = double_conv(512,1024)\n",
        "\n",
        "    self.up_trans1 = nn.ConvTranspose2d(in_channels=1024, out_channels=512, kernel_size=2,stride=2)\n",
        "    self.up_conv1 = double_conv(1024,512)\n",
        "    self.up_trans2 = nn.ConvTranspose2d(in_channels=512, out_channels=256, kernel_size=2,stride=2)\n",
        "    self.up_conv2 = double_conv(512,256)\n",
        "    self.up_trans3 = nn.ConvTranspose2d(in_channels=256, out_channels=128, kernel_size=2,stride=2)\n",
        "    self.up_conv3 = double_conv(256,128)\n",
        "    self.up_trans4 = nn.ConvTranspose2d(in_channels=128, out_channels=64, kernel_size=2,stride=2)\n",
        "    self.up_conv4 = double_conv(128,64)\n",
        "\n",
        "    self.out = nn.Conv2d(in_channels=64,out_channels=2,kernel_size=1)\n",
        "\n",
        "  def forward(self,image):\n",
        "    #encoder\n",
        "    x1 = self.down_conv1(image)\n",
        "    x2 = self.max_pool(x1)\n",
        "    #print(x1.size())\n",
        "    #print(x2.size())\n",
        "    x3 = self.down_conv2(x2)\n",
        "    x4 = self.max_pool(x3)\n",
        "    #print(x3.size())\n",
        "    #print(x4.size())\n",
        "    x5 = self.down_conv3(x4)\n",
        "    x6 = self.max_pool(x5)\n",
        "    #print(x5.size())\n",
        "    #print(x6.size())\n",
        "    x7 = self.down_conv4(x6)\n",
        "    x8 = self.max_pool(x7)\n",
        "    #print(x7.size())\n",
        "    #print(x8.size())\n",
        "    x9 = self.down_conv5(x8)\n",
        "\n",
        "    x = self.up_trans1(x9)\n",
        "    y = crop_img(x7,x)\n",
        "    #print(x9.size())\n",
        "    #print(x.size())\n",
        "    #print(y.size())\n",
        "    x = self.up_conv1(torch.cat([x,y],1))\n",
        "\n",
        "    #decoder\n",
        "    x = self.up_trans2(x)\n",
        "    y = crop_img(x5,x)\n",
        "    x = self.up_conv2(torch.cat([x,y],1))\n",
        "\n",
        "    x = self.up_trans3(x)\n",
        "    y = crop_img(x3,x)\n",
        "    x = self.up_conv3(torch.cat([x,y],1))\n",
        "\n",
        "    x = self.up_trans4(x)\n",
        "    y = crop_img(x1,x)\n",
        "   \n",
        "    x = self.up_conv4(torch.cat([x,y],1))\n",
        "    x = self.out(x)\n",
        "\n",
        "    return x\n",
        "\n"
      ],
      "metadata": {
        "id": "OI974OcI7wDG"
      },
      "execution_count": 21,
      "outputs": []
    },
    {
      "cell_type": "code",
      "source": [
        "image = torch.rand((1,1,572,572))\n",
        "model = UNet()\n",
        "print(model(image))"
      ],
      "metadata": {
        "colab": {
          "base_uri": "https://localhost:8080/"
        },
        "id": "vsE-OLLzR8-Q",
        "outputId": "7a19c931-b155-4e28-87cd-b1d8e3fb40d1"
      },
      "execution_count": 24,
      "outputs": [
        {
          "output_type": "stream",
          "name": "stdout",
          "text": [
            "torch.Size([1, 64, 568, 568])\n",
            "torch.Size([1, 64, 284, 284])\n",
            "torch.Size([1, 128, 280, 280])\n",
            "torch.Size([1, 128, 140, 140])\n",
            "torch.Size([1, 256, 136, 136])\n",
            "torch.Size([1, 256, 68, 68])\n",
            "torch.Size([1, 512, 64, 64])\n",
            "torch.Size([1, 512, 32, 32])\n",
            "torch.Size([1, 1024, 28, 28])\n",
            "torch.Size([1, 512, 56, 56])\n",
            "torch.Size([1, 512, 56, 56])\n",
            "tensor([[[[ 0.0773,  0.0858,  0.0793,  ...,  0.0809,  0.0772,  0.0769],\n",
            "          [ 0.0798,  0.0851,  0.0868,  ...,  0.0754,  0.0787,  0.0752],\n",
            "          [ 0.0778,  0.0745,  0.0788,  ...,  0.0749,  0.0816,  0.0801],\n",
            "          ...,\n",
            "          [ 0.0793,  0.0721,  0.0755,  ...,  0.0742,  0.0830,  0.0759],\n",
            "          [ 0.0745,  0.0743,  0.0732,  ...,  0.0754,  0.0764,  0.0748],\n",
            "          [ 0.0809,  0.0789,  0.0741,  ...,  0.0819,  0.0749,  0.0729]],\n",
            "\n",
            "         [[-0.0057, -0.0049,  0.0005,  ..., -0.0090, -0.0035, -0.0045],\n",
            "          [-0.0044, -0.0048, -0.0054,  ..., -0.0043, -0.0084, -0.0022],\n",
            "          [-0.0041, -0.0054, -0.0003,  ..., -0.0059, -0.0014, -0.0037],\n",
            "          ...,\n",
            "          [-0.0005, -0.0025, -0.0050,  ..., -0.0074, -0.0049, -0.0058],\n",
            "          [-0.0044, -0.0046, -0.0028,  ..., -0.0052, -0.0061, -0.0021],\n",
            "          [-0.0037, -0.0051, -0.0093,  ..., -0.0062, -0.0078, -0.0059]]]],\n",
            "       grad_fn=<ConvolutionBackward0>)\n"
          ]
        }
      ]
    },
    {
      "cell_type": "code",
      "source": [
        ""
      ],
      "metadata": {
        "id": "VQCXeYb09TKY"
      },
      "execution_count": null,
      "outputs": []
    }
  ]
}
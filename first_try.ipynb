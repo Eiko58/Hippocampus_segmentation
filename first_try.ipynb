{
  "cells": [
    {
      "cell_type": "markdown",
      "metadata": {
        "id": "view-in-github",
        "colab_type": "text"
      },
      "source": [
        "<a href=\"https://colab.research.google.com/github/Eiko58/Hippocampus_segmentation/blob/main/first_try.ipynb\" target=\"_parent\"><img src=\"https://colab.research.google.com/assets/colab-badge.svg\" alt=\"Open In Colab\"/></a>"
      ]
    },
    {
      "cell_type": "code",
      "execution_count": null,
      "metadata": {
        "id": "WW1nCnfEe7w8"
      },
      "outputs": [],
      "source": [
        "import torch\n",
        "from torchvision import datasets as datasets\n",
        "import matplotlib.pyplot as plt\n",
        "import numpy as np\n",
        "from torch.utils.data import DataLoader as DataLoader\n",
        "from torchvision import transforms as transforms\n",
        "import torch.nn as nn\n",
        "import torch.nn.functional as F\n",
        "import torch.nn as nn\n",
        "import torch.optim as optim\n",
        "import torchvision\n",
        "from torch.utils.data import DataLoader, Dataset\n",
        "import glob\n",
        "from google.colab import drive\n"
      ]
    },
    {
      "cell_type": "code",
      "execution_count": null,
      "metadata": {
        "id": "Gl5Ssvb6fleq"
      },
      "outputs": [],
      "source": [
        "import matplotlib.pyplot as plt\n",
        "import os\n",
        "import os.path\n",
        "from pathlib import Path\n",
        "import cv2\n",
        "import copy\n",
        "import torchvision.transforms.functional as TF\n",
        "import random"
      ]
    },
    {
      "cell_type": "code",
      "execution_count": null,
      "metadata": {
        "colab": {
          "base_uri": "https://localhost:8080/"
        },
        "id": "jZrL-24wfE3K",
        "outputId": "44df0a7f-508d-42ff-d18c-a2d6dfae4e2f"
      },
      "outputs": [
        {
          "output_type": "stream",
          "name": "stdout",
          "text": [
            "Mounted at /content/drive/\n",
            "/content\n"
          ]
        }
      ],
      "source": [
        "drive.mount('/content/drive/')\n",
        "!pwd"
      ]
    },
    {
      "cell_type": "code",
      "execution_count": null,
      "metadata": {
        "id": "S1QPXaMjfHc8"
      },
      "outputs": [],
      "source": [
        "class img_dataset(Dataset):\n",
        "  def __init__(self, kind='train'):\n",
        "    self.kind = kind\n",
        "    super(Dataset,self).__init__()\n",
        "    path_kind = 'drive/MyDrive/hippocampus/' + kind\n",
        "    self.features = [cv2.cvtColor(cv2.imread(file),cv2.COLOR_BGR2GRAY) for file in glob.glob(path_kind+'/Total/*.jpg')] # x and y dimension should be divisible by 16 for unet\n",
        "    self.targets = [cv2.cvtColor(cv2.imread(file),cv2.COLOR_BGR2GRAY) for file in glob.glob(path_kind+'/label/*.jpg')]\n",
        "    assert len(self.features) == len(self.targets), \"Something wrong with the dataset\"\n",
        "    \n",
        "  def __len__(self):\n",
        "    return len(self.features)\n",
        "  \n",
        "    \n",
        "  def __getitem__(self, index):\n",
        "    feature, target = self.features[index], self.targets[index]\n",
        "    feature_tensor = torch.tensor(feature)\n",
        "    feature_tensor = torch.unsqueeze(feature_tensor/255, 0)\n",
        "    target_tensor = torch.tensor(target)/255\n",
        "    target_tensor = torch.round(target_tensor)\n",
        "    target_tensor = torch.unsqueeze(target_tensor, 0)\n",
        "    if self.kind == 'train':\n",
        "      if random.uniform(0,1) > 0.8:\n",
        "              x_unif = random.uniform(0.5, 1.5)\n",
        "              feature_tensor = TF.adjust_gamma(feature_tensor, x_unif)\n",
        "      if random.uniform(0,1) > 0.8:\n",
        "              x1 = np.random.binomial(4, 0.5) - 2\n",
        "              y1 = np.random.binomial(4, 0.5) - 2\n",
        "              x2 = random.uniform(0.9, 1.1)\n",
        "              x3 = random.uniform(-5, 5)\n",
        "              feature_tensor = TF.affine(feature_tensor, angle=0, translate = [x1, y1], scale = x2, shear=x3)\n",
        "              target_tensor = TF.affine(target_tensor, angle=0, translate = [x1, y1], scale = x2, shear=x3) # think it's needed because of shear (?)\n",
        "      if random.uniform(0,1) > 0.8:\n",
        "              feature_tensor = TF.gaussian_blur(feature_tensor, 3)\n",
        "    return feature_tensor, target_tensor\n",
        "\n"
      ]
    },
    {
      "cell_type": "code",
      "execution_count": null,
      "metadata": {
        "id": "h_2AsTqRkzKj"
      },
      "outputs": [],
      "source": [
        "tr_dataloader = DataLoader(img_dataset(kind='train'), batch_size=8, shuffle=True)\n",
        "te_dataloader = DataLoader(img_dataset(kind='test'), batch_size=8, shuffle=False)\n",
        "val_dataloader = DataLoader(img_dataset(kind='validation'), batch_size=8, shuffle=False)"
      ]
    },
    {
      "cell_type": "code",
      "execution_count": null,
      "metadata": {
        "colab": {
          "base_uri": "https://localhost:8080/",
          "height": 540
        },
        "id": "3pjj-ufymeEz",
        "outputId": "137375cc-376e-48b0-f3bf-963da127833e"
      },
      "outputs": [
        {
          "output_type": "stream",
          "name": "stdout",
          "text": [
            "torch.Size([8, 1, 233, 197])\n",
            "torch.Size([8, 1, 233, 197])\n",
            "tensor([[[0.0039, 0.0039, 0.0039,  ..., 0.0039, 0.0039, 0.0039],\n",
            "         [0.0039, 0.0039, 0.0039,  ..., 0.0039, 0.0039, 0.0039],\n",
            "         [0.0039, 0.0039, 0.0039,  ..., 0.0039, 0.0039, 0.0039],\n",
            "         ...,\n",
            "         [0.0157, 0.0157, 0.0157,  ..., 0.0039, 0.0039, 0.0039],\n",
            "         [0.0156, 0.0171, 0.0181,  ..., 0.0039, 0.0039, 0.0039],\n",
            "         [0.0155, 0.0188, 0.0209,  ..., 0.0039, 0.0039, 0.0039]]])\n",
            "torch.Size([8, 1, 233, 197])\n",
            "torch.Size([8, 1, 233, 197])\n",
            "torch.Size([8, 1, 233, 197])\n",
            "torch.Size([8, 1, 233, 197])\n",
            "tensor([[[0., 0., 0.,  ..., 0., 0., 0.],\n",
            "         [0., 0., 0.,  ..., 0., 0., 0.],\n",
            "         [0., 0., 0.,  ..., 0., 0., 0.],\n",
            "         ...,\n",
            "         [0., 0., 0.,  ..., 0., 0., 0.],\n",
            "         [0., 0., 0.,  ..., 0., 0., 0.],\n",
            "         [0., 0., 0.,  ..., 0., 0., 0.]]])\n"
          ]
        },
        {
          "output_type": "display_data",
          "data": {
            "text/plain": [
              "<Figure size 1080x1080 with 6 Axes>"
            ],
            "image/png": "[encoded data removed]"
          },
          "metadata": {
            "needs_background": "light"
          }
        }
      ],
      "source": [
        "figure,axis = plt.subplots(1,6,figsize=(15,15))\n",
        "for batch_features, batch_targets in tr_dataloader:\n",
        "    print(batch_features.shape)\n",
        "    print(batch_targets.shape)\n",
        "    axis[0].imshow(torch.squeeze(batch_features[7], 0).numpy())\n",
        "    axis[1].imshow(torch.squeeze(batch_targets[2],0).numpy())\n",
        "    print(batch_features[7])\n",
        "    break\n",
        "for batch_features, batch_targets in te_dataloader:\n",
        "    print(batch_features.shape)\n",
        "    print(batch_targets.shape)\n",
        "    axis[2].imshow(torch.squeeze(batch_features[7], 0).numpy())\n",
        "    axis[3].imshow(torch.squeeze(batch_targets[6],0).numpy())\n",
        "    break\n",
        "for batch_features, batch_targets in val_dataloader:\n",
        "    print(batch_features.shape)\n",
        "    print(batch_targets.shape)\n",
        "    axis[4].imshow(torch.squeeze(batch_features[7], 0).numpy())\n",
        "    axis[5].imshow(torch.squeeze(batch_targets[7], 0).numpy())\n",
        "    print(batch_targets[7])\n",
        "    break "
      ]
    },
    {
      "cell_type": "code",
      "execution_count": null,
      "metadata": {
        "id": "p611-TR2gpL4"
      },
      "outputs": [],
      "source": [
        "class DoubleConv(nn.Module):\n",
        "  def __init__(self, in_channels, out_channels):\n",
        "    super(DoubleConv, self).__init__()\n",
        "    self.conv = nn.Sequential(\n",
        "        nn.Conv2d(in_channels, out_channels, kernel_size=3, stride=1, padding=1, bias=False), #bias=False, because of batchnorm\n",
        "        nn.BatchNorm2d(out_channels),\n",
        "        nn.ReLU(inplace=True),\n",
        "        nn.Conv2d(out_channels, out_channels, 3, 1, 1, bias=False),\n",
        "        nn.BatchNorm2d(out_channels),\n",
        "        nn.ReLU(inplace=True)\n",
        "    )\n",
        "  def forward(self, x):\n",
        "    return self.conv(x)\n",
        "\n",
        "class UNet(nn.Module):\n",
        "  def __init__(self, in_channels=1, out_channels=1, features=[64, 128, 256, 512]):\n",
        "    super(UNet, self).__init__()\n",
        "    self.downs = nn.ModuleList()\n",
        "    self.ups = nn.ModuleList()\n",
        "    self.pool = nn.MaxPool2d(kernel_size=2, stride=2)\n",
        "\n",
        "    # Down part of UNet\n",
        "    for feature in features:\n",
        "      self.downs.append(DoubleConv(in_channels, feature))\n",
        "      in_channels = feature\n",
        "\n",
        "    # Up part of UNet\n",
        "    for feature in reversed(features):\n",
        "      self.ups.append(nn.ConvTranspose2d(feature*2, feature, kernel_size=2, stride=2)) #feature*2 because of concatination\n",
        "      self.ups.append(DoubleConv(feature*2, feature))\n",
        "    \n",
        "    # Bottleneck\n",
        "    self.bottleneck = DoubleConv(features[-1], features[-1]*2)\n",
        "\n",
        "    # Final Conv\n",
        "    self.final_conv = nn.Conv2d(features[0], out_channels, kernel_size=1)\n",
        "  \n",
        "  def forward(self, x):\n",
        "    skip_connections = []\n",
        "\n",
        "    for down in self.downs:\n",
        "      x = down(x)\n",
        "      skip_connections.append(x) # first has highest resolution\n",
        "      x = self.pool(x)\n",
        "    \n",
        "    x = self.bottleneck(x)\n",
        "    skip_connections = skip_connections[::-1]\n",
        "\n",
        "    for i in range(0, len(self.ups), 2):\n",
        "      x = self.ups[i](x) #ConvTranspose\n",
        "      skip_connection = skip_connections[i//2]\n",
        "      if x.shape != skip_connection.shape:\n",
        "        x = transforms.functional.resize(x, skip_connection.shape[2:]) #ignoring batch size and channel size\n",
        "      concat_skip = torch.concat((skip_connection, x), dim=1) #dim=1 is channel dimension\n",
        "      x = self.ups[i+1](concat_skip) # DoubleConv\n",
        "    \n",
        "    return self.final_conv(x)\n"
      ]
    },
    {
      "cell_type": "code",
      "source": [
        "class diceloss(nn.Module):\n",
        "  def __init__(self):\n",
        "    super(diceloss, self).init()\n",
        "  def forward(self, outcome, label):\n",
        "    outcome = torch.round(outcome)\n",
        "    return (2*(outcome*label).sum()) / ((outcome+label).sum()+ 1e-8) "
      ],
      "metadata": {
        "id": "WbcHt7Db1rL-"
      },
      "execution_count": null,
      "outputs": []
    },
    {
      "cell_type": "code",
      "source": [
        "model = UNet()\n",
        "device = torch.device(\"cuda\" if torch.cuda.is_available() else \"cpu\")\n",
        "print(device)\n",
        "model.to(device)"
      ],
      "metadata": {
        "id": "GEibqLS20aBH"
      },
      "execution_count": null,
      "outputs": []
    },
    {
      "cell_type": "code",
      "source": [
        "criterion1 = nn.BCEWithLogitsLoss()\n",
        "criterion2 = diceloss()\n",
        "optimizer = optim.Adam(model.parameters(), lr=1e-3)"
      ],
      "metadata": {
        "id": "OM39FjmF087x"
      },
      "execution_count": null,
      "outputs": []
    },
    {
      "cell_type": "code",
      "source": [
        "print(criterion1)\n",
        "print(criterion2)\n",
        "print(optimizer)"
      ],
      "metadata": {
        "colab": {
          "base_uri": "https://localhost:8080/"
        },
        "id": "T0NW2BFyhOx9",
        "outputId": "163936d4-4540-4e69-8e8b-3c03609c4015"
      },
      "execution_count": null,
      "outputs": [
        {
          "output_type": "stream",
          "name": "stdout",
          "text": [
            "BCEWithLogitsLoss()\n",
            "Adam (\n",
            "Parameter Group 0\n",
            "    amsgrad: False\n",
            "    betas: (0.9, 0.999)\n",
            "    eps: 1e-08\n",
            "    lr: 0.001\n",
            "    maximize: False\n",
            "    weight_decay: 0\n",
            ")\n"
          ]
        }
      ]
    },
    {
      "cell_type": "code",
      "source": [
        "def batch_loss(outputs, labels, batch_size, criterion):\n",
        "  loss_empty_labels = []\n",
        "  loss_not_empty_labels = []\n",
        "  for i in range(batch_size):\n",
        "    if torch.sum(labels[i]) == 0:\n",
        "      loss_empty_labels.append(criterion(outputs[i].detach(), labels[i]).item())\n",
        "    else:\n",
        "      loss_not_empty_labels.append(criterion(outputs[i].detach(), labels[i]).item())\n",
        "  return loss_empty_labels, loss_not_empty_labels"
      ],
      "metadata": {
        "id": "nFzwsIc8G4SR"
      },
      "execution_count": null,
      "outputs": []
    },
    {
      "cell_type": "code",
      "execution_count": null,
      "metadata": {
        "id": "MvS6RVWngmjz",
        "colab": {
          "base_uri": "https://localhost:8080/"
        },
        "outputId": "b33774f2-2fa4-4f81-e910-9705448b3696"
      },
      "outputs": [
        {
          "output_type": "stream",
          "name": "stdout",
          "text": [
            "[1,   500] running_loss_when_empty: 0.000\n",
            "[1,   500] running_loss_not_empty: 0.008\n",
            "[1,   500] running_total_loss: 0.001\n",
            "[1,   500] no_loss: 0.693\n",
            "[1,  1000] running_loss_when_empty: 0.000\n",
            "[1,  1000] running_loss_not_empty: 0.006\n",
            "[1,  1000] running_total_loss: 0.001\n",
            "[1,  1000] no_loss: 0.693\n",
            "[1,  1500] running_loss_when_empty: 0.000\n",
            "[1,  1500] running_loss_not_empty: 0.006\n",
            "[1,  1500] running_total_loss: 0.001\n",
            "[1,  1500] no_loss: 0.693\n",
            "[1,  2000] running_loss_when_empty: 0.000\n",
            "[1,  2000] running_loss_not_empty: 0.005\n",
            "[1,  2000] running_total_loss: 0.001\n",
            "[1,  2000] no_loss: 0.693\n",
            "Average val loss when empty: 0.000\n",
            "Average val loss when not empty: 0.005\n",
            "The new best model is at epoch 0\n",
            "Epoch: 0 over\n",
            "[2,   500] running_loss_when_empty: 0.000\n",
            "[2,   500] running_loss_not_empty: 0.005\n",
            "[2,   500] running_total_loss: 0.001\n",
            "[2,   500] no_loss: 0.693\n",
            "[2,  1000] running_loss_when_empty: 0.000\n",
            "[2,  1000] running_loss_not_empty: 0.004\n",
            "[2,  1000] running_total_loss: 0.001\n",
            "[2,  1000] no_loss: 0.693\n",
            "[2,  1500] running_loss_when_empty: 0.000\n",
            "[2,  1500] running_loss_not_empty: 0.004\n",
            "[2,  1500] running_total_loss: 0.001\n",
            "[2,  1500] no_loss: 0.693\n",
            "[2,  2000] running_loss_when_empty: 0.000\n",
            "[2,  2000] running_loss_not_empty: 0.004\n",
            "[2,  2000] running_total_loss: 0.001\n",
            "[2,  2000] no_loss: 0.693\n",
            "Average val loss when empty: 0.000\n",
            "Average val loss when not empty: 0.004\n",
            "The new best model is at epoch 1\n",
            "Epoch: 1 over\n"
          ]
        }
      ],
      "source": [
        "%%capture cap --no-stderr\n",
        "min_val_loss = float(\"inf\")  # initialize best loss to infinity\n",
        "for epoch in range(2):       # loop over the dataset multiple times (= epochs)\n",
        "\n",
        "    empty_bce = []  # variable to accumulate the loss across mini-batches\n",
        "    nempty_bce = []\n",
        "    total_bce = 0.0\n",
        "    empty_dice = []\n",
        "    nempty_dice = []\n",
        "    total_dice = 0.0\n",
        "    model.train()     # set model to training mode for gradient accumulation (often forgotten and leads to bugs!)\n",
        "    for i, data in enumerate(tr_dataloader):  # loop through the mini-batches\n",
        "        # get the inputs; data is a list of [inputs, labels]\n",
        "        inputs, labels = data\n",
        "        inputs = inputs.to(device)\n",
        "        labels = labels.to(device)\n",
        "\n",
        "        # zero the parameter gradients\n",
        "        optimizer.zero_grad()\n",
        "        outputs = model(inputs)          # perform inference\n",
        "        loss = criterion1(outputs, labels) # compute loss\n",
        "        \n",
        "        bcee, bcen = batch_loss(outputs, labels, outputs.shape[0], criterion1)\n",
        "        empty_bce.extend(bcee)\n",
        "        nempty_bce.extend(bcen)\n",
        "        total_bce += loss.item()\n",
        "\n",
        "        dicee, dicen = batch_loss(outputs, labels, outputs.shape[0], criterion2)\n",
        "        empty_dice.extend(dicee)\n",
        "        nempty_dice.extend(dicen)\n",
        "        total_dice += criterion2(outputs, labels).item()\n",
        "\n",
        "        loss.backward()                    # compute gradients\n",
        "        optimizer.step()                   # optimizer updates weights using gradients\n",
        "\n",
        "        \n",
        "        \n",
        "        if i % 500 == 499:    # print every 500 mini-batches\n",
        "            print(f'[{epoch + 1}, {i + 1:5d}] empty_bce: {np.mean(np.array(empty_bce)):.3f}')\n",
        "            print(f'[{epoch + 1}, {i + 1:5d}] nempty_bce: {np.mean(np.array(nempty_bce)):.3f}')\n",
        "            print(f'[{epoch + 1}, {i + 1:5d}] total_bce: {total_bce/500:.3f}')\n",
        "            empty_bce = []\n",
        "            nempty_bce = []\n",
        "            total_bce = 0.0\n",
        "                        \n",
        "            print(f'[{epoch + 1}, {i + 1:5d}] empty_dice: {np.mean(np.array(empty_dice)):.3f}')\n",
        "            print(f'[{epoch + 1}, {i + 1:5d}] nempty_dice: {np.mean(np.array(nempty_dice)):.3f}')\n",
        "            print(f'[{epoch + 1}, {i + 1:5d}] total_dice: {total_dice/500:.3f}')\n",
        "            empty_dice = []\n",
        "            nempty_dice = []\n",
        "            total_dice = 0.0\n",
        "            \n",
        "\n",
        "    \n",
        "    model.eval()  # set to evaluation mode \n",
        "    val_loss_empty_bce = []\n",
        "    val_loss_nempty_bce = []\n",
        "    val_loss_empty_dice = []\n",
        "    val_loss_nempty_dice = []\n",
        "    with torch.no_grad():\n",
        "        for i, data in enumerate(val_dataloader):\n",
        "            # get the inputs; data is a list of [inputs, labels]\n",
        "            inputs, labels = data\n",
        "            inputs = inputs.to(device)\n",
        "            labels = labels.to(device)\n",
        "            outputs = model(inputs)\n",
        "            val_loss_bcee, val_loss_bcen = batch_loss(outputs, labels, outputs.shape[0], criterion1)\n",
        "            val_loss_dicee, val_loss_dicen = batch_loss(outputs, labels, outputs.shape[0], criterion2)\n",
        "            # print statistics\n",
        "            val_loss_empty_bce.extend(val_loss_bcee)\n",
        "            val_loss_nempty_bce.extend(val_loss_bcen)\n",
        "            val_loss_empty_bce.extend(val_loss_dicee)\n",
        "            val_loss_nempty_bce.extend(val_loss_dicen)\n",
        "\n",
        "    num_validation_batches = len(val_dataloader)\n",
        "    print(f'Average val loss empty_bce: {np.mean(np.array(val_loss_empty_bce)):.3f}')\n",
        "    print(f'Average val loss nempty_bce: {np.mean(np.array(val_loss_nempty_bce)):.3f}')\n",
        "    print(f'Average val loss empty_dice: {np.mean(np.array(val_loss_empty_dice)):.3f}')\n",
        "    print(f'Average val loss nempty_dice: {np.mean(np.array(val_loss_nempty_dice)):.3f}')\n",
        "    if np.mean(np.array(val_loss_empty_bce))+np.mean(np.array(val_loss_nempty_bce)) +np.mean(np.array(val_loss_nempty_dice)) + np.mean(np.array(val_loss_empty_dice))  < min_val_loss:\n",
        "        min_val_loss = np.mean(np.array(val_loss_empty_bce))+np.mean(np.array(val_loss_nempty_bce)) +np.mean(np.array(val_loss_nempty_dice)) + np.mean(np.array(val_loss_empty_dice))\n",
        "        print(f'The new best model is at epoch {epoch}')\n",
        "        torch.save(model.state_dict(), 'drive/MyDrive/models/unet.pth')  # save the network\n",
        "    print(f'Epoch: {epoch} over')\n",
        "\n",
        "\n",
        " "
      ]
    },
    {
      "cell_type": "code",
      "source": [
        "\n",
        "with open('drive/MyDrive/logs/errors1.txt', 'w') as f:\n",
        "  f.write(f'{model}')\n",
        "  f.write('\\n')\n",
        "  f.write(f'{criterion}')\n",
        "  f.write('\\n')\n",
        "  f.write(f'{optimizer}')\n",
        "  f.write(cap.stdout)"
      ],
      "metadata": {
        "id": "9A_eeytkdlbB"
      },
      "execution_count": null,
      "outputs": []
    },
    {
      "cell_type": "code",
      "source": [
        "def most_frequent(List):\n",
        "    return max(set(List), key = List.count)"
      ],
      "metadata": {
        "id": "iQBRNEy7ztyZ"
      },
      "execution_count": null,
      "outputs": []
    },
    {
      "cell_type": "code",
      "source": [
        "img = batch_targets[7]\n",
        "most_frequent(list(torch.flatten(img).numpy()))\n",
        "x = [most_frequent(list(torch.flatten(img).numpy()))] * len(torch.flatten(img))\n",
        "len(img[img==x[1]]), len(torch.flatten(img))"
      ],
      "metadata": {
        "colab": {
          "base_uri": "https://localhost:8080/"
        },
        "id": "ZeqG1s8czfB7",
        "outputId": "709bd4df-2a2b-4429-e9fd-11e25b24df0c"
      },
      "execution_count": null,
      "outputs": [
        {
          "output_type": "execute_result",
          "data": {
            "text/plain": [
              "(45901, 45901)"
            ]
          },
          "metadata": {},
          "execution_count": 13
        }
      ]
    },
    {
      "cell_type": "code",
      "source": [
        "criterion = nn.BCEWithLogitsLoss()\n",
        "print(criterion(torch.tensor(np.array(x)).reshape(img.shape), img).item())\n",
        "print(criterion(img, img).item())\n",
        "rand_img = torch.randn(img.shape)\n",
        "criterion(rand_img, img).item()"
      ],
      "metadata": {
        "colab": {
          "base_uri": "https://localhost:8080/"
        },
        "id": "S3kCNsC3yAUq",
        "outputId": "2ddde21e-1cc3-4ba2-aa3a-8ecf79410d60"
      },
      "execution_count": null,
      "outputs": [
        {
          "output_type": "stream",
          "name": "stdout",
          "text": [
            "0.6970148086547852\n",
            "0.6970148086547852\n"
          ]
        },
        {
          "output_type": "execute_result",
          "data": {
            "text/plain": [
              "0.8064162731170654"
            ]
          },
          "metadata": {},
          "execution_count": 16
        }
      ]
    },
    {
      "cell_type": "code",
      "source": [
        "print(criterion(batch_targets, batch_targets).item())\n",
        "print(criterion(torch.randn(batch_targets.shape), batch_targets).item())"
      ],
      "metadata": {
        "colab": {
          "base_uri": "https://localhost:8080/"
        },
        "id": "Z8y7Tlgvimh-",
        "outputId": "a8c70e12-56f0-4432-c552-a728ef960dbd"
      },
      "execution_count": null,
      "outputs": [
        {
          "output_type": "stream",
          "name": "stdout",
          "text": [
            "0.6970149874687195\n",
            "0.8056691288948059\n"
          ]
        }
      ]
    }
  ],
  "metadata": {
    "colab": {
      "name": "first_try.ipynb",
      "provenance": [],
      "collapsed_sections": [],
      "authorship_tag": "ABX9TyNNwmPjayY75yL+aTSECe7v",
      "include_colab_link": true
    },
    "kernelspec": {
      "display_name": "Python 3",
      "name": "python3"
    },
    "language_info": {
      "name": "python"
    },
    "accelerator": "GPU"
  },
  "nbformat": 4,
  "nbformat_minor": 0
}
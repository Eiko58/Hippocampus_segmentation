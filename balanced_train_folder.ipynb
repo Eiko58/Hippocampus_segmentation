{
  "nbformat": 4,
  "nbformat_minor": 0,
  "metadata": {
    "colab": {
      "name": "throw_out.ipynb",
      "provenance": [],
      "authorship_tag": "ABX9TyN9HaooBh7gJx6imb2YNCTa",
      "include_colab_link": true
    },
    "kernelspec": {
      "name": "python3",
      "display_name": "Python 3"
    },
    "language_info": {
      "name": "python"
    }
  },
  "cells": [
    {
      "cell_type": "markdown",
      "metadata": {
        "id": "view-in-github",
        "colab_type": "text"
      },
      "source": [
        "<a href=\"https://colab.research.google.com/github/Eiko58/Hippocampus_segmentation/blob/main/balanced_train_folder.ipynb\" target=\"_parent\"><img src=\"https://colab.research.google.com/assets/colab-badge.svg\" alt=\"Open In Colab\"/></a>"
      ]
    },
    {
      "cell_type": "code",
      "execution_count": null,
      "metadata": {
        "id": "WCUpZs7moov9"
      },
      "outputs": [],
      "source": [
        "import torch\n",
        "from torchvision import datasets as datasets\n",
        "import matplotlib.pyplot as plt\n",
        "import numpy as np\n",
        "from torch.utils.data import DataLoader as DataLoader\n",
        "from torchvision import transforms as transforms\n",
        "import torch.nn as nn\n",
        "import torch.nn.functional as F\n",
        "import torch.nn as nn\n",
        "import torch.optim as optim\n",
        "import torchvision\n",
        "from torch.utils.data import DataLoader, Dataset, random_split\n",
        "import glob\n",
        "from google.colab import drive\n",
        "import matplotlib.pyplot as plt\n",
        "import os\n",
        "import os.path\n",
        "from pathlib import Path\n",
        "import cv2\n",
        "import copy\n",
        "import torchvision.transforms.functional as TF\n",
        "import random\n",
        "import math\n",
        "import pandas as pd\n",
        "from torchvision.utils import save_image"
      ]
    },
    {
      "cell_type": "code",
      "source": [
        "drive.mount('/content/drive/')\n",
        "!pwd"
      ],
      "metadata": {
        "colab": {
          "base_uri": "https://localhost:8080/"
        },
        "id": "YTWngWNjqwl-",
        "outputId": "ad2a7dcb-47e2-49f1-cfe4-27b895f5b664"
      },
      "execution_count": null,
      "outputs": [
        {
          "output_type": "stream",
          "name": "stdout",
          "text": [
            "Drive already mounted at /content/drive/; to attempt to forcibly remount, call drive.mount(\"/content/drive/\", force_remount=True).\n",
            "/content\n"
          ]
        }
      ]
    },
    {
      "cell_type": "code",
      "source": [
        "path = 'drive/MyDrive/hippocampus/train/label'\n",
        "index = 0\n",
        "list_indices = []\n",
        "for img_name in os.listdir(path):\n",
        "  print(img_name)\n",
        "  print(f'{path}/{img_name}')\n",
        "  img = np.round(cv2.cvtColor(cv2.imread(f'{path}/{img_name}'), cv2.COLOR_BGR2GRAY)/255)\n",
        "  print(img.sum()==0)\n",
        "  break\n",
        "print(img)"
      ],
      "metadata": {
        "colab": {
          "base_uri": "https://localhost:8080/"
        },
        "id": "V4htFa9hqnhI",
        "outputId": "10b3cd8d-e779-4d9b-fba7-1cf5faa800f4"
      },
      "execution_count": null,
      "outputs": [
        {
          "output_type": "stream",
          "name": "stdout",
          "text": [
            "ADNI_127_S_0754_23787_hip_135.jpg\n",
            "drive/MyDrive/hippocampus/train/label/ADNI_127_S_0754_23787_hip_135.jpg\n",
            "True\n",
            "[[0. 0. 0. ... 0. 0. 0.]\n",
            " [0. 0. 0. ... 0. 0. 0.]\n",
            " [0. 0. 0. ... 0. 0. 0.]\n",
            " ...\n",
            " [0. 0. 0. ... 0. 0. 0.]\n",
            " [0. 0. 0. ... 0. 0. 0.]\n",
            " [0. 0. 0. ... 0. 0. 0.]]\n"
          ]
        }
      ]
    },
    {
      "cell_type": "code",
      "source": [
        "i = 0\n",
        "for file in glob.glob(path+'/*.jpg'):\n",
        "  if i == 1000:\n",
        "      print(file)\n",
        "      break\n",
        "  i+=1\n",
        "  \n",
        "i = 0\n",
        "for file in glob.glob('drive/MyDrive/hippocampus/train/Total/*.jpg'):\n",
        "  if i == 1000:\n",
        "      print(file)\n",
        "      break\n",
        "  i+=1\n",
        "  "
      ],
      "metadata": {
        "colab": {
          "base_uri": "https://localhost:8080/"
        },
        "id": "MyybjSIN2Pto",
        "outputId": "8bb5b06e-b09b-4bd4-99bb-6a85afc9ddb0"
      },
      "execution_count": null,
      "outputs": [
        {
          "output_type": "stream",
          "name": "stdout",
          "text": [
            "drive/MyDrive/hippocampus/train/label/ADNI_126_S_0606_37834_hip_080.jpg\n",
            "drive/MyDrive/hippocampus/train/Total/ADNI_126_S_0606_37834_ACPC_080.jpg\n"
          ]
        }
      ]
    },
    {
      "cell_type": "code",
      "source": [
        "path = 'drive/MyDrive/hippocampus/train/'\n",
        "index = -1\n",
        "list_indices = []\n",
        "for file in glob.glob(path+'label/*.jpg'):\n",
        "  index +=1\n",
        "  img = np.round(cv2.cvtColor(cv2.imread(file), cv2.COLOR_BGR2GRAY)/255)\n",
        "  if img.sum() == 0:\n",
        "    list_indices.append(index)\n",
        "  \n"
      ],
      "metadata": {
        "id": "KzDyfJ_JotIv"
      },
      "execution_count": null,
      "outputs": []
    },
    {
      "cell_type": "code",
      "source": [
        "glob.glob(path+'label/*.jpg')[1:5]"
      ],
      "metadata": {
        "colab": {
          "base_uri": "https://localhost:8080/"
        },
        "id": "Y7aREKB-6rPC",
        "outputId": "dac3467a-5153-4465-83d2-aae32f482825"
      },
      "execution_count": null,
      "outputs": [
        {
          "output_type": "execute_result",
          "data": {
            "text/plain": [
              "['drive/MyDrive/hippocampus/train/label/ADNI_127_S_0754_23787_hip_136.jpg',\n",
              " 'drive/MyDrive/hippocampus/train/label/ADNI_127_S_0754_23787_hip_137.jpg',\n",
              " 'drive/MyDrive/hippocampus/train/label/ADNI_127_S_0754_23787_hip_138.jpg',\n",
              " 'drive/MyDrive/hippocampus/train/label/ADNI_127_S_0754_23787_hip_139.jpg']"
            ]
          },
          "metadata": {},
          "execution_count": 35
        }
      ]
    },
    {
      "cell_type": "code",
      "source": [
        "len(list_indices) #in total 18710 images.\n",
        "list_indices_nempty = []\n",
        "for i in range(18710):\n",
        "  if not i in list_indices:\n",
        "    list_indices_nempty.append(i)\n",
        "len(list_indices_nempty)\n"
      ],
      "metadata": {
        "colab": {
          "base_uri": "https://localhost:8080/"
        },
        "id": "if6_dM37otKl",
        "outputId": "cd704a3f-b2b6-479e-c8db-6954d236f96e"
      },
      "execution_count": null,
      "outputs": [
        {
          "output_type": "execute_result",
          "data": {
            "text/plain": [
              "2969"
            ]
          },
          "metadata": {},
          "execution_count": 24
        }
      ]
    },
    {
      "cell_type": "code",
      "source": [
        "random.seed(1234)\n",
        "indices_keep = random.sample(list_indices, k=3000)\n",
        "path2 = 'drive/MyDrive/hippocampus/balanced_train'\n",
        "os.mkdir(path2)\n",
        "os.mkdir(f'{path2}/Total')\n",
        "os.mkdir(f'{path2}/label')"
      ],
      "metadata": {
        "colab": {
          "base_uri": "https://localhost:8080/",
          "height": 246
        },
        "id": "3-UUZe1euYBA",
        "outputId": "ce8d6c56-f018-482c-c5ed-751bbd026816"
      },
      "execution_count": null,
      "outputs": [
        {
          "output_type": "error",
          "ename": "FileExistsError",
          "evalue": "ignored",
          "traceback": [
            "\u001b[0;31m---------------------------------------------------------------------------\u001b[0m",
            "\u001b[0;31mFileExistsError\u001b[0m                           Traceback (most recent call last)",
            "\u001b[0;32m<ipython-input-30-bfc1bb9c2fd2>\u001b[0m in \u001b[0;36m<module>\u001b[0;34m()\u001b[0m\n\u001b[1;32m      2\u001b[0m \u001b[0mindices_keep\u001b[0m \u001b[0;34m=\u001b[0m \u001b[0mrandom\u001b[0m\u001b[0;34m.\u001b[0m\u001b[0msample\u001b[0m\u001b[0;34m(\u001b[0m\u001b[0mlist_indices\u001b[0m\u001b[0;34m,\u001b[0m \u001b[0mk\u001b[0m\u001b[0;34m=\u001b[0m\u001b[0;36m3000\u001b[0m\u001b[0;34m)\u001b[0m\u001b[0;34m\u001b[0m\u001b[0;34m\u001b[0m\u001b[0m\n\u001b[1;32m      3\u001b[0m \u001b[0mpath2\u001b[0m \u001b[0;34m=\u001b[0m \u001b[0;34m'drive/MyDrive/hippocampus/balanced_train'\u001b[0m\u001b[0;34m\u001b[0m\u001b[0;34m\u001b[0m\u001b[0m\n\u001b[0;32m----> 4\u001b[0;31m \u001b[0mos\u001b[0m\u001b[0;34m.\u001b[0m\u001b[0mmkdir\u001b[0m\u001b[0;34m(\u001b[0m\u001b[0mpath2\u001b[0m\u001b[0;34m)\u001b[0m\u001b[0;34m\u001b[0m\u001b[0;34m\u001b[0m\u001b[0m\n\u001b[0m\u001b[1;32m      5\u001b[0m \u001b[0mos\u001b[0m\u001b[0;34m.\u001b[0m\u001b[0mmkdir\u001b[0m\u001b[0;34m(\u001b[0m\u001b[0;34mf'{path2}/Total'\u001b[0m\u001b[0;34m)\u001b[0m\u001b[0;34m\u001b[0m\u001b[0;34m\u001b[0m\u001b[0m\n\u001b[1;32m      6\u001b[0m \u001b[0mos\u001b[0m\u001b[0;34m.\u001b[0m\u001b[0mmkdir\u001b[0m\u001b[0;34m(\u001b[0m\u001b[0;34mf'{path2}/label'\u001b[0m\u001b[0;34m)\u001b[0m\u001b[0;34m\u001b[0m\u001b[0;34m\u001b[0m\u001b[0m\n",
            "\u001b[0;31mFileExistsError\u001b[0m: [Errno 17] File exists: 'drive/MyDrive/hippocampus/balanced_train'"
          ]
        }
      ]
    },
    {
      "cell_type": "code",
      "source": [
        "indices_keep.extend(list_indices_nempty)"
      ],
      "metadata": {
        "id": "Jj7vCG4L4uAI"
      },
      "execution_count": null,
      "outputs": []
    },
    {
      "cell_type": "code",
      "source": [
        "print(len(indices_keep))\n",
        "indices_keep = sorted(indices_keep)"
      ],
      "metadata": {
        "id": "XQCDcM3y4y0p"
      },
      "execution_count": null,
      "outputs": []
    },
    {
      "cell_type": "code",
      "source": [
        "\n",
        "file_list =  glob.glob(path+'label/*.jpg')\n",
        "files_keep = [file_list[i] for i in indices_keep]\n",
        "print(len(files_keep))\n",
        "print(files_keep[1:5])\n",
        "\n",
        "  "
      ],
      "metadata": {
        "colab": {
          "base_uri": "https://localhost:8080/"
        },
        "id": "VB_9uwOuwPlQ",
        "outputId": "45f3b54a-5447-48be-c0c7-ad9fc2e63c00"
      },
      "execution_count": null,
      "outputs": [
        {
          "output_type": "stream",
          "name": "stdout",
          "text": [
            "['drive/MyDrive/hippocampus/train/label/ADNI_127_S_0754_23787_hip_145.jpg', 'drive/MyDrive/hippocampus/train/label/ADNI_127_S_0754_23787_hip_151.jpg', 'drive/MyDrive/hippocampus/train/label/ADNI_127_S_0754_23787_hip_159.jpg', 'drive/MyDrive/hippocampus/train/label/ADNI_127_S_0754_23787_hip_162.jpg']\n"
          ]
        }
      ]
    },
    {
      "cell_type": "code",
      "source": [
        "file_list_total =  glob.glob(path+'Total/*.jpg')\n",
        "files_keep_total = [file_list_total[i] for i in indices_keep]\n",
        "print(len(files_keep_total))\n",
        "print(files_keep_total[1:5])"
      ],
      "metadata": {
        "colab": {
          "base_uri": "https://localhost:8080/"
        },
        "id": "lXFbZxDr7rwG",
        "outputId": "85db6dd7-d359-4beb-9a3d-77b24c846126"
      },
      "execution_count": null,
      "outputs": [
        {
          "output_type": "stream",
          "name": "stdout",
          "text": [
            "5969\n",
            "['drive/MyDrive/hippocampus/train/Total/ADNI_127_S_0754_23787_ACPC_145.jpg', 'drive/MyDrive/hippocampus/train/Total/ADNI_127_S_0754_23787_ACPC_151.jpg', 'drive/MyDrive/hippocampus/train/Total/ADNI_127_S_0754_23787_ACPC_159.jpg', 'drive/MyDrive/hippocampus/train/Total/ADNI_127_S_0754_23787_ACPC_162.jpg']\n"
          ]
        }
      ]
    },
    {
      "cell_type": "code",
      "source": [
        "import shutil\n",
        "for file in files_keep:\n",
        "  new_path = file.replace('train', 'balanced_train')\n",
        "  shutil.copy(file, new_path)"
      ],
      "metadata": {
        "id": "m149181C5TGJ"
      },
      "execution_count": null,
      "outputs": []
    },
    {
      "cell_type": "code",
      "source": [
        "print(len(glob.glob('drive/MyDrive/hippocampus/balanced_train/label/*.jpg')))\n",
        "print(glob.glob('drive/MyDrive/hippocampus/balanced_train/label/*.jpg')[1:5])"
      ],
      "metadata": {
        "colab": {
          "base_uri": "https://localhost:8080/"
        },
        "id": "COw7MmK-8i6o",
        "outputId": "05705f87-4a43-4010-8715-fb85ca25f19b"
      },
      "execution_count": null,
      "outputs": [
        {
          "output_type": "stream",
          "name": "stdout",
          "text": [
            "5969\n",
            "['drive/MyDrive/hippocampus/balanced_train/label/ADNI_127_S_0754_23787_hip_145.jpg', 'drive/MyDrive/hippocampus/balanced_train/label/ADNI_127_S_0754_23787_hip_151.jpg', 'drive/MyDrive/hippocampus/balanced_train/label/ADNI_127_S_0754_23787_hip_159.jpg', 'drive/MyDrive/hippocampus/balanced_train/label/ADNI_127_S_0754_23787_hip_162.jpg']\n"
          ]
        }
      ]
    },
    {
      "cell_type": "code",
      "source": [
        "for file in files_keep_total:\n",
        "  new_path = file.replace('train', 'balanced_train')\n",
        "  shutil.copy(file, new_path)"
      ],
      "metadata": {
        "id": "pfJZtQpi8V4C"
      },
      "execution_count": null,
      "outputs": []
    },
    {
      "cell_type": "code",
      "source": [
        "print(len(glob.glob('drive/MyDrive/hippocampus/balanced_train/Total/*.jpg')))\n",
        "print(glob.glob('drive/MyDrive/hippocampus/balanced_train/Total/*.jpg')[1:5])"
      ],
      "metadata": {
        "colab": {
          "base_uri": "https://localhost:8080/"
        },
        "id": "M9ZKbLY089yb",
        "outputId": "85cbbfc2-5597-444e-a21a-34c3c9b4bd34"
      },
      "execution_count": null,
      "outputs": [
        {
          "output_type": "stream",
          "name": "stdout",
          "text": [
            "5969\n",
            "['drive/MyDrive/hippocampus/balanced_train/Total/ADNI_127_S_0754_23787_ACPC_145.jpg', 'drive/MyDrive/hippocampus/balanced_train/Total/ADNI_127_S_0754_23787_ACPC_151.jpg', 'drive/MyDrive/hippocampus/balanced_train/Total/ADNI_127_S_0754_23787_ACPC_159.jpg', 'drive/MyDrive/hippocampus/balanced_train/Total/ADNI_127_S_0754_23787_ACPC_162.jpg']\n"
          ]
        }
      ]
    },
    {
      "cell_type": "code",
      "source": [
        "print(glob.glob('drive/MyDrive/hippocampus/balanced_train/Total/*.jpg')[3000])\n",
        "print(glob.glob('drive/MyDrive/hippocampus/balanced_train/label/*.jpg')[3000])"
      ],
      "metadata": {
        "id": "UqQxxpNB9SHB",
        "outputId": "2b528802-eb93-4d29-f596-7c1c72e2c4fd",
        "colab": {
          "base_uri": "https://localhost:8080/"
        }
      },
      "execution_count": null,
      "outputs": [
        {
          "output_type": "stream",
          "name": "stdout",
          "text": [
            "drive/MyDrive/hippocampus/balanced_train/Total/ADNI_018_S_0425_108829_ACPC_027.jpg\n",
            "drive/MyDrive/hippocampus/balanced_train/label/ADNI_018_S_0425_108829_hip_027.jpg\n"
          ]
        }
      ]
    }
  ]
}